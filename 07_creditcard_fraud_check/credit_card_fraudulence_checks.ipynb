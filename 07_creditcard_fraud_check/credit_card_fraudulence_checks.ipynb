{
  "cells": [
    {
      "cell_type": "code",
      "execution_count": 41,
      "metadata": {
        "id": "TJoA8dGztdob"
      },
      "outputs": [],
      "source": [
        "import torch\n",
        "import torch.nn as nn\n",
        "import torch.optim as optim\n",
        "from torch.utils.data import Dataset, DataLoader\n",
        "import torch.nn.functional as F\n",
        "from sklearn.model_selection import train_test_split\n",
        "from sklearn.preprocessing import StandardScaler\n",
        "from sklearn.utils import class_weight\n",
        "from sklearn.metrics import precision_score, recall_score, confusion_matrix, ConfusionMatrixDisplay\n",
        "import numpy as np\n",
        "import pandas as pd\n",
        "import kagglehub\n",
        "import torch.onnx as onnx\n",
        "import pickle\n",
        "import os\n",
        "from pathlib import Path\n",
        "\n"
      ]
    },
    {
      "cell_type": "code",
      "execution_count": null,
      "metadata": {
        "id": "zxVcreAjOql2"
      },
      "outputs": [],
      "source": [
        "# Making sure onnxrumtime/onnx python packagaes is installed\n",
        "# These are needed to convert and save the model into onnx format used for inference\n",
        "!pip install onnxruntime\n",
        "!pip install onnx\n",
        "import onnxruntime as ort"
      ]
    },
    {
      "cell_type": "code",
      "execution_count": 43,
      "metadata": {
        "colab": {
          "base_uri": "https://localhost:8080/"
        },
        "id": "5_Eh3ZQ_UEP0",
        "outputId": "ae7ea3a2-087f-43ab-a9f5-246d80557ab3"
      },
      "outputs": [
        {
          "name": "stdout",
          "output_type": "stream",
          "text": [
            "Path to dataset files: /kaggle/input/credit-card-fraud-detection\n",
            "['validate.csv', 'train.csv', 'test.csv', '._test.csv']\n",
            "test.csv  train.csv  validate.csv\n",
            "test.csv  train.csv  validate.csv\n"
          ]
        }
      ],
      "source": [
        "# I have few datasets with credit card fraud information and I have uploaded into\n",
        "# my own space (shahtabkhandakar) in Kaggle Hub and made it public. This is the dataset I'll use for my model.\n",
        "# The powerpoint slides will have the details of this dataset\n",
        "\n",
        "path = kagglehub.dataset_download(\"shahtabkhandakar/credit-card-fraud-detection\")\n",
        "print(\"Path to dataset files:\", path)\n",
        "\n",
        "print(os.listdir(path))\n",
        "\n",
        "# Both locations below are valid\n",
        "!ls /kaggle/input/credit-card-fraud-detection\n",
        "!ls /root/.cache/kagglehub/datasets/shahtabkhandakar/credit-card-fraud-detection/versions/1\n"
      ]
    },
    {
      "cell_type": "code",
      "execution_count": 44,
      "metadata": {
        "colab": {
          "base_uri": "https://localhost:8080/",
          "height": 244
        },
        "id": "sfSModdpty_E",
        "outputId": "0402a0e7-46af-4b6e-8f91-11005f8f4074"
      },
      "outputs": [
        {
          "name": "stdout",
          "output_type": "stream",
          "text": [
            "test.csv  train.csv  validate.csv\n"
          ]
        },
        {
          "data": {
            "application/vnd.google.colaboratory.intrinsic+json": {
              "summary": "{\n  \"name\": \"#df_validate\",\n  \"rows\": 5,\n  \"fields\": [\n    {\n      \"column\": \"distance_from_home\",\n      \"properties\": {\n        \"dtype\": \"number\",\n        \"std\": 49.26735075617425,\n        \"min\": 3.6077989953013465,\n        \"max\": 113.61427180523866,\n        \"num_unique_values\": 5,\n        \"samples\": [\n          3.6077989953013465,\n          96.3466838229416,\n          14.303444144536533\n        ],\n        \"semantic_type\": \"\",\n        \"description\": \"\"\n      }\n    },\n    {\n      \"column\": \"distance_from_last_transaction\",\n      \"properties\": {\n        \"dtype\": \"number\",\n        \"std\": 3.530514504404844,\n        \"min\": 0.4482768262282221,\n        \"max\": 8.439478856727751,\n        \"num_unique_values\": 5,\n        \"samples\": [\n          0.6879564017925288,\n          0.4482768262282221,\n          8.439478856727751\n        ],\n        \"semantic_type\": \"\",\n        \"description\": \"\"\n      }\n    },\n    {\n      \"column\": \"ratio_to_median_purchase_price\",\n      \"properties\": {\n        \"dtype\": \"number\",\n        \"std\": 0.7112707888566319,\n        \"min\": 0.0817208197977065,\n        \"max\": 1.7485200217860457,\n        \"num_unique_values\": 5,\n        \"samples\": [\n          0.0817208197977065,\n          1.3734127026699048,\n          0.316733273880289\n        ],\n        \"semantic_type\": \"\",\n        \"description\": \"\"\n      }\n    },\n    {\n      \"column\": \"repeat_retailer\",\n      \"properties\": {\n        \"dtype\": \"number\",\n        \"std\": 0.0,\n        \"min\": 1.0,\n        \"max\": 1.0,\n        \"num_unique_values\": 1,\n        \"samples\": [\n          1.0\n        ],\n        \"semantic_type\": \"\",\n        \"description\": \"\"\n      }\n    },\n    {\n      \"column\": \"used_chip\",\n      \"properties\": {\n        \"dtype\": \"number\",\n        \"std\": 0.5477225575051662,\n        \"min\": 0.0,\n        \"max\": 1.0,\n        \"num_unique_values\": 2,\n        \"samples\": [\n          1.0\n        ],\n        \"semantic_type\": \"\",\n        \"description\": \"\"\n      }\n    },\n    {\n      \"column\": \"used_pin_number\",\n      \"properties\": {\n        \"dtype\": \"number\",\n        \"std\": 0.0,\n        \"min\": 0.0,\n        \"max\": 0.0,\n        \"num_unique_values\": 1,\n        \"samples\": [\n          0.0\n        ],\n        \"semantic_type\": \"\",\n        \"description\": \"\"\n      }\n    },\n    {\n      \"column\": \"online_order\",\n      \"properties\": {\n        \"dtype\": \"number\",\n        \"std\": 0.0,\n        \"min\": 1.0,\n        \"max\": 1.0,\n        \"num_unique_values\": 1,\n        \"samples\": [\n          1.0\n        ],\n        \"semantic_type\": \"\",\n        \"description\": \"\"\n      }\n    },\n    {\n      \"column\": \"fraud\",\n      \"properties\": {\n        \"dtype\": \"number\",\n        \"std\": 0.447213595499958,\n        \"min\": 0.0,\n        \"max\": 1.0,\n        \"num_unique_values\": 2,\n        \"samples\": [\n          1.0\n        ],\n        \"semantic_type\": \"\",\n        \"description\": \"\"\n      }\n    }\n  ]\n}",
              "type": "dataframe"
            },
            "text/html": [
              "\n",
              "  <div id=\"df-a1f49715-62f1-484b-a976-ecbe9fcfc5cd\" class=\"colab-df-container\">\n",
              "    <div>\n",
              "<style scoped>\n",
              "    .dataframe tbody tr th:only-of-type {\n",
              "        vertical-align: middle;\n",
              "    }\n",
              "\n",
              "    .dataframe tbody tr th {\n",
              "        vertical-align: top;\n",
              "    }\n",
              "\n",
              "    .dataframe thead th {\n",
              "        text-align: right;\n",
              "    }\n",
              "</style>\n",
              "<table border=\"1\" class=\"dataframe\">\n",
              "  <thead>\n",
              "    <tr style=\"text-align: right;\">\n",
              "      <th></th>\n",
              "      <th>distance_from_home</th>\n",
              "      <th>distance_from_last_transaction</th>\n",
              "      <th>ratio_to_median_purchase_price</th>\n",
              "      <th>repeat_retailer</th>\n",
              "      <th>used_chip</th>\n",
              "      <th>used_pin_number</th>\n",
              "      <th>online_order</th>\n",
              "      <th>fraud</th>\n",
              "    </tr>\n",
              "  </thead>\n",
              "  <tbody>\n",
              "    <tr>\n",
              "      <th>0</th>\n",
              "      <td>75.744071</td>\n",
              "      <td>0.526379</td>\n",
              "      <td>1.178682</td>\n",
              "      <td>1.0</td>\n",
              "      <td>0.0</td>\n",
              "      <td>0.0</td>\n",
              "      <td>1.0</td>\n",
              "      <td>0.0</td>\n",
              "    </tr>\n",
              "    <tr>\n",
              "      <th>1</th>\n",
              "      <td>3.607799</td>\n",
              "      <td>0.687956</td>\n",
              "      <td>0.081721</td>\n",
              "      <td>1.0</td>\n",
              "      <td>1.0</td>\n",
              "      <td>0.0</td>\n",
              "      <td>1.0</td>\n",
              "      <td>0.0</td>\n",
              "    </tr>\n",
              "    <tr>\n",
              "      <th>2</th>\n",
              "      <td>14.303444</td>\n",
              "      <td>8.439479</td>\n",
              "      <td>0.316733</td>\n",
              "      <td>1.0</td>\n",
              "      <td>1.0</td>\n",
              "      <td>0.0</td>\n",
              "      <td>1.0</td>\n",
              "      <td>0.0</td>\n",
              "    </tr>\n",
              "    <tr>\n",
              "      <th>3</th>\n",
              "      <td>113.614272</td>\n",
              "      <td>0.527061</td>\n",
              "      <td>1.748520</td>\n",
              "      <td>1.0</td>\n",
              "      <td>0.0</td>\n",
              "      <td>0.0</td>\n",
              "      <td>1.0</td>\n",
              "      <td>1.0</td>\n",
              "    </tr>\n",
              "    <tr>\n",
              "      <th>4</th>\n",
              "      <td>96.346684</td>\n",
              "      <td>0.448277</td>\n",
              "      <td>1.373413</td>\n",
              "      <td>1.0</td>\n",
              "      <td>0.0</td>\n",
              "      <td>0.0</td>\n",
              "      <td>1.0</td>\n",
              "      <td>0.0</td>\n",
              "    </tr>\n",
              "  </tbody>\n",
              "</table>\n",
              "</div>\n",
              "    <div class=\"colab-df-buttons\">\n",
              "\n",
              "  <div class=\"colab-df-container\">\n",
              "    <button class=\"colab-df-convert\" onclick=\"convertToInteractive('df-a1f49715-62f1-484b-a976-ecbe9fcfc5cd')\"\n",
              "            title=\"Convert this dataframe to an interactive table.\"\n",
              "            style=\"display:none;\">\n",
              "\n",
              "  <svg xmlns=\"http://www.w3.org/2000/svg\" height=\"24px\" viewBox=\"0 -960 960 960\">\n",
              "    <path d=\"M120-120v-720h720v720H120Zm60-500h600v-160H180v160Zm220 220h160v-160H400v160Zm0 220h160v-160H400v160ZM180-400h160v-160H180v160Zm440 0h160v-160H620v160ZM180-180h160v-160H180v160Zm440 0h160v-160H620v160Z\"/>\n",
              "  </svg>\n",
              "    </button>\n",
              "\n",
              "  <style>\n",
              "    .colab-df-container {\n",
              "      display:flex;\n",
              "      gap: 12px;\n",
              "    }\n",
              "\n",
              "    .colab-df-convert {\n",
              "      background-color: #E8F0FE;\n",
              "      border: none;\n",
              "      border-radius: 50%;\n",
              "      cursor: pointer;\n",
              "      display: none;\n",
              "      fill: #1967D2;\n",
              "      height: 32px;\n",
              "      padding: 0 0 0 0;\n",
              "      width: 32px;\n",
              "    }\n",
              "\n",
              "    .colab-df-convert:hover {\n",
              "      background-color: #E2EBFA;\n",
              "      box-shadow: 0px 1px 2px rgba(60, 64, 67, 0.3), 0px 1px 3px 1px rgba(60, 64, 67, 0.15);\n",
              "      fill: #174EA6;\n",
              "    }\n",
              "\n",
              "    .colab-df-buttons div {\n",
              "      margin-bottom: 4px;\n",
              "    }\n",
              "\n",
              "    [theme=dark] .colab-df-convert {\n",
              "      background-color: #3B4455;\n",
              "      fill: #D2E3FC;\n",
              "    }\n",
              "\n",
              "    [theme=dark] .colab-df-convert:hover {\n",
              "      background-color: #434B5C;\n",
              "      box-shadow: 0px 1px 3px 1px rgba(0, 0, 0, 0.15);\n",
              "      filter: drop-shadow(0px 1px 2px rgba(0, 0, 0, 0.3));\n",
              "      fill: #FFFFFF;\n",
              "    }\n",
              "  </style>\n",
              "\n",
              "    <script>\n",
              "      const buttonEl =\n",
              "        document.querySelector('#df-a1f49715-62f1-484b-a976-ecbe9fcfc5cd button.colab-df-convert');\n",
              "      buttonEl.style.display =\n",
              "        google.colab.kernel.accessAllowed ? 'block' : 'none';\n",
              "\n",
              "      async function convertToInteractive(key) {\n",
              "        const element = document.querySelector('#df-a1f49715-62f1-484b-a976-ecbe9fcfc5cd');\n",
              "        const dataTable =\n",
              "          await google.colab.kernel.invokeFunction('convertToInteractive',\n",
              "                                                    [key], {});\n",
              "        if (!dataTable) return;\n",
              "\n",
              "        const docLinkHtml = 'Like what you see? Visit the ' +\n",
              "          '<a target=\"_blank\" href=https://colab.research.google.com/notebooks/data_table.ipynb>data table notebook</a>'\n",
              "          + ' to learn more about interactive tables.';\n",
              "        element.innerHTML = '';\n",
              "        dataTable['output_type'] = 'display_data';\n",
              "        await google.colab.output.renderOutput(dataTable, element);\n",
              "        const docLink = document.createElement('div');\n",
              "        docLink.innerHTML = docLinkHtml;\n",
              "        element.appendChild(docLink);\n",
              "      }\n",
              "    </script>\n",
              "  </div>\n",
              "\n",
              "\n",
              "    <div id=\"df-b96a16d7-5f4e-4844-adf1-595cd3623f87\">\n",
              "      <button class=\"colab-df-quickchart\" onclick=\"quickchart('df-b96a16d7-5f4e-4844-adf1-595cd3623f87')\"\n",
              "                title=\"Suggest charts\"\n",
              "                style=\"display:none;\">\n",
              "\n",
              "<svg xmlns=\"http://www.w3.org/2000/svg\" height=\"24px\"viewBox=\"0 0 24 24\"\n",
              "     width=\"24px\">\n",
              "    <g>\n",
              "        <path d=\"M19 3H5c-1.1 0-2 .9-2 2v14c0 1.1.9 2 2 2h14c1.1 0 2-.9 2-2V5c0-1.1-.9-2-2-2zM9 17H7v-7h2v7zm4 0h-2V7h2v10zm4 0h-2v-4h2v4z\"/>\n",
              "    </g>\n",
              "</svg>\n",
              "      </button>\n",
              "\n",
              "<style>\n",
              "  .colab-df-quickchart {\n",
              "      --bg-color: #E8F0FE;\n",
              "      --fill-color: #1967D2;\n",
              "      --hover-bg-color: #E2EBFA;\n",
              "      --hover-fill-color: #174EA6;\n",
              "      --disabled-fill-color: #AAA;\n",
              "      --disabled-bg-color: #DDD;\n",
              "  }\n",
              "\n",
              "  [theme=dark] .colab-df-quickchart {\n",
              "      --bg-color: #3B4455;\n",
              "      --fill-color: #D2E3FC;\n",
              "      --hover-bg-color: #434B5C;\n",
              "      --hover-fill-color: #FFFFFF;\n",
              "      --disabled-bg-color: #3B4455;\n",
              "      --disabled-fill-color: #666;\n",
              "  }\n",
              "\n",
              "  .colab-df-quickchart {\n",
              "    background-color: var(--bg-color);\n",
              "    border: none;\n",
              "    border-radius: 50%;\n",
              "    cursor: pointer;\n",
              "    display: none;\n",
              "    fill: var(--fill-color);\n",
              "    height: 32px;\n",
              "    padding: 0;\n",
              "    width: 32px;\n",
              "  }\n",
              "\n",
              "  .colab-df-quickchart:hover {\n",
              "    background-color: var(--hover-bg-color);\n",
              "    box-shadow: 0 1px 2px rgba(60, 64, 67, 0.3), 0 1px 3px 1px rgba(60, 64, 67, 0.15);\n",
              "    fill: var(--button-hover-fill-color);\n",
              "  }\n",
              "\n",
              "  .colab-df-quickchart-complete:disabled,\n",
              "  .colab-df-quickchart-complete:disabled:hover {\n",
              "    background-color: var(--disabled-bg-color);\n",
              "    fill: var(--disabled-fill-color);\n",
              "    box-shadow: none;\n",
              "  }\n",
              "\n",
              "  .colab-df-spinner {\n",
              "    border: 2px solid var(--fill-color);\n",
              "    border-color: transparent;\n",
              "    border-bottom-color: var(--fill-color);\n",
              "    animation:\n",
              "      spin 1s steps(1) infinite;\n",
              "  }\n",
              "\n",
              "  @keyframes spin {\n",
              "    0% {\n",
              "      border-color: transparent;\n",
              "      border-bottom-color: var(--fill-color);\n",
              "      border-left-color: var(--fill-color);\n",
              "    }\n",
              "    20% {\n",
              "      border-color: transparent;\n",
              "      border-left-color: var(--fill-color);\n",
              "      border-top-color: var(--fill-color);\n",
              "    }\n",
              "    30% {\n",
              "      border-color: transparent;\n",
              "      border-left-color: var(--fill-color);\n",
              "      border-top-color: var(--fill-color);\n",
              "      border-right-color: var(--fill-color);\n",
              "    }\n",
              "    40% {\n",
              "      border-color: transparent;\n",
              "      border-right-color: var(--fill-color);\n",
              "      border-top-color: var(--fill-color);\n",
              "    }\n",
              "    60% {\n",
              "      border-color: transparent;\n",
              "      border-right-color: var(--fill-color);\n",
              "    }\n",
              "    80% {\n",
              "      border-color: transparent;\n",
              "      border-right-color: var(--fill-color);\n",
              "      border-bottom-color: var(--fill-color);\n",
              "    }\n",
              "    90% {\n",
              "      border-color: transparent;\n",
              "      border-bottom-color: var(--fill-color);\n",
              "    }\n",
              "  }\n",
              "</style>\n",
              "\n",
              "      <script>\n",
              "        async function quickchart(key) {\n",
              "          const quickchartButtonEl =\n",
              "            document.querySelector('#' + key + ' button');\n",
              "          quickchartButtonEl.disabled = true;  // To prevent multiple clicks.\n",
              "          quickchartButtonEl.classList.add('colab-df-spinner');\n",
              "          try {\n",
              "            const charts = await google.colab.kernel.invokeFunction(\n",
              "                'suggestCharts', [key], {});\n",
              "          } catch (error) {\n",
              "            console.error('Error during call to suggestCharts:', error);\n",
              "          }\n",
              "          quickchartButtonEl.classList.remove('colab-df-spinner');\n",
              "          quickchartButtonEl.classList.add('colab-df-quickchart-complete');\n",
              "        }\n",
              "        (() => {\n",
              "          let quickchartButtonEl =\n",
              "            document.querySelector('#df-b96a16d7-5f4e-4844-adf1-595cd3623f87 button');\n",
              "          quickchartButtonEl.style.display =\n",
              "            google.colab.kernel.accessAllowed ? 'block' : 'none';\n",
              "        })();\n",
              "      </script>\n",
              "    </div>\n",
              "\n",
              "    </div>\n",
              "  </div>\n"
            ],
            "text/plain": [
              "   distance_from_home  distance_from_last_transaction  \\\n",
              "0           75.744071                        0.526379   \n",
              "1            3.607799                        0.687956   \n",
              "2           14.303444                        8.439479   \n",
              "3          113.614272                        0.527061   \n",
              "4           96.346684                        0.448277   \n",
              "\n",
              "   ratio_to_median_purchase_price  repeat_retailer  used_chip  \\\n",
              "0                        1.178682              1.0        0.0   \n",
              "1                        0.081721              1.0        1.0   \n",
              "2                        0.316733              1.0        1.0   \n",
              "3                        1.748520              1.0        0.0   \n",
              "4                        1.373413              1.0        0.0   \n",
              "\n",
              "   used_pin_number  online_order  fraud  \n",
              "0              0.0           1.0    0.0  \n",
              "1              0.0           1.0    0.0  \n",
              "2              0.0           1.0    0.0  \n",
              "3              0.0           1.0    1.0  \n",
              "4              0.0           1.0    0.0  "
            ]
          },
          "execution_count": 44,
          "metadata": {},
          "output_type": "execute_result"
        }
      ],
      "source": [
        "# Checking how these CSV files look like\n",
        "\n",
        "!ls /root/.cache/kagglehub/datasets/shahtabkhandakar/credit-card-fraud-detection/versions/1\n",
        "\n",
        "df = pd.read_csv(\"/root/.cache/kagglehub/datasets/shahtabkhandakar/credit-card-fraud-detection/versions/1/train.csv\")\n",
        "df.head()\n",
        "\n",
        "#df_test = pd.read_csv(\"/root/.cache/kagglehub/datasets/shahtabkhandakar/credit-card-fraud-detection/versions/1/test.csv\")\n",
        "#df_test.head()\n",
        "\n",
        "#df_validate = pd.read_csv(\"/root/.cache/kagglehub/datasets/shahtabkhandakar/credit-card-fraud-detection/versions/1/validate.csv\")\n",
        "#df_validate.head()\n",
        "\n"
      ]
    },
    {
      "cell_type": "code",
      "execution_count": 45,
      "metadata": {
        "id": "HEzYOOz9t0eD"
      },
      "outputs": [],
      "source": [
        "# CSV input files have the following columns that we need for input,\n",
        "# that can be separated into in_features and labels as below with column numbers\n",
        "\n",
        "feature_indexes = [\n",
        "    1,  # distance_from_last_transaction\n",
        "    2,  # ratio_to_median_purchase_price\n",
        "    4,  # used_chip\n",
        "    5,  # used_pin_number\n",
        "    6,  # online_order\n",
        "]\n",
        "\n",
        "label_indexes = [\n",
        "    7  # fraud\n",
        "]"
      ]
    },
    {
      "cell_type": "code",
      "execution_count": 50,
      "metadata": {
        "id": "MvcjkdBOkEoD"
      },
      "outputs": [],
      "source": [
        "# Define an class to process the CSV files for the pytorch dataloader\n",
        "\n",
        "class CSVDataset(Dataset):\n",
        "    def __init__(self, csv_file):\n",
        "        self.data = pd.read_csv(csv_file)\n",
        "        # Extract features(X) and labels(y) from the csv file\n",
        "        self.X = torch.tensor(self.data.iloc[:, feature_indexes].values, dtype=torch.float32)\n",
        "        self.y = torch.tensor(self.data.iloc[:, label_indexes].values, dtype=torch.float32)\n",
        "\n",
        "    def __len__(self):\n",
        "        return len(self.data)\n",
        "\n",
        "    def __getitem__(self, idx):\n",
        "        return self.X[idx], self.y[idx]\n"
      ]
    },
    {
      "cell_type": "code",
      "execution_count": 49,
      "metadata": {
        "id": "SqyEYhN1ztx8"
      },
      "outputs": [],
      "source": [
        "# Designing a simple 3 layer feed forward fully connected model.\n",
        "\n",
        "class FeedForwardNet(nn.Module):\n",
        "    def __init__(self, input_size, hidden_size, output_size):\n",
        "        super().__init__()\n",
        "        self.fc1 = nn.Linear(input_size, hidden_size)\n",
        "        self.batch_norm1 = nn.BatchNorm1d(hidden_size)\n",
        "        self.relu1 = nn.ReLU()\n",
        "        self.dropout1 = nn.Dropout(0.2)\n",
        "\n",
        "        self.fc2 = nn.Linear(hidden_size, hidden_size)\n",
        "        self.batch_norm2 = nn.BatchNorm1d(hidden_size)\n",
        "        self.relu2 = nn.ReLU()\n",
        "        self.dropout2 = nn.Dropout(0.2)\n",
        "\n",
        "        # Final layer outputs to the desired output_size (which is 1 for binary classification)\n",
        "        self.fc3 = nn.Linear(hidden_size, output_size)\n",
        "\n",
        "    def forward(self, x):\n",
        "        x = self.fc1(x)\n",
        "        x = self.batch_norm1(x)\n",
        "        x = self.relu1(x)\n",
        "        x = self.dropout1(x)\n",
        "\n",
        "        x = self.fc2(x)\n",
        "        x = self.batch_norm2(x)\n",
        "        x = self.relu2(x)\n",
        "        x = self.dropout2(x)\n",
        "\n",
        "        # Final output layer - outputs logits\n",
        "        x = self.fc3(x)\n",
        "\n",
        "        return x"
      ]
    },
    {
      "cell_type": "code",
      "execution_count": 51,
      "metadata": {
        "id": "c5xyypUClnM6"
      },
      "outputs": [],
      "source": [
        "#csv_path = '/kaggle/input/credit-card-fraud-detection/train.csv'\n",
        "csv_path = '/root/.cache/kagglehub/datasets/shahtabkhandakar/credit-card-fraud-detection/versions/1/train.csv'\n",
        "dataset = CSVDataset(csv_path)\n",
        "dataloader = DataLoader(dataset, batch_size=32, shuffle=True)\n",
        "\n",
        "input_size = len(feature_indexes)\n",
        "hidden_size = 64\n",
        "output_size = len(label_indexes)\n"
      ]
    },
    {
      "cell_type": "code",
      "execution_count": 52,
      "metadata": {
        "colab": {
          "base_uri": "https://localhost:8080/"
        },
        "id": "2oXG1bHznGEV",
        "outputId": "ca98947d-1265-4e79-afc1-e582cbb9a720"
      },
      "outputs": [
        {
          "name": "stdout",
          "output_type": "stream",
          "text": [
            "torch.Size([32, 5])\n",
            "torch.Size([32, 1])\n"
          ]
        }
      ],
      "source": [
        "# Test to see how the dataloader loaded the input csv file.\n",
        "\n",
        "for X_train, y_train in dataloader:\n",
        "    print(X_train.shape)\n",
        "    #print(X_train)\n",
        "    print(y_train.shape)\n",
        "    #print(y_train)\n",
        "    break"
      ]
    },
    {
      "cell_type": "code",
      "execution_count": 53,
      "metadata": {
        "id": "mQXDIvBYoexF"
      },
      "outputs": [],
      "source": [
        "# This is important: Scale the data to remove mean and have unit variance.\n",
        "# The data will be between -1 and 1, which makes it a lot easier for the model to learn than random\n",
        "# (and potentially large) values. It is important to only fit the scaler to the training data,\n",
        "# otherwise it'll be leaking information about the global distribution of variables\n",
        "# (which is influenced by the test set) into the training set.\n",
        "\n",
        "scaler = StandardScaler()\n",
        "X_train = scaler.fit_transform(X_train)\n"
      ]
    },
    {
      "cell_type": "code",
      "execution_count": 54,
      "metadata": {
        "colab": {
          "base_uri": "https://localhost:8080/"
        },
        "id": "cSgBgQ2go568",
        "outputId": "ee2a8e1f-ac4a-4b08-9f7b-65983711bb61"
      },
      "outputs": [
        {
          "name": "stdout",
          "output_type": "stream",
          "text": [
            "Calculated class weights:\n",
            "Class 0 (Non-fraud): 0.5479802361794818\n",
            "Class 1 (Fraud): 5.710478728466737\n",
            "Calculated pos_weight for BCEWithLogitsLoss: 10.420957456933474\n"
          ]
        }
      ],
      "source": [
        "# Since the dataset is unbalanced (it has many more non-fraud transactions than fraudulent ones),\n",
        "# set a class weight to weight the few fraudulent transactions higher than the many non-fraud transactions.\n",
        "\n",
        "# Load the entire training labels to get the true distribution of classes\n",
        "#full_train_labels = pd.read_csv('/kaggle/input/credit-card-fraud-detection/train.csv').iloc[:, label_indexes].values\n",
        "full_train_labels = pd.read_csv('/root/.cache/kagglehub/datasets/shahtabkhandakar/credit-card-fraud-detection/versions/1/train.csv').iloc[:, label_indexes].values\n",
        "\n",
        "# Calculate the balanced class weights\n",
        "class_weights = class_weight.compute_class_weight('balanced',\n",
        "                                                  classes=np.unique(full_train_labels),\n",
        "                                                  y=full_train_labels.ravel()\n",
        "                                                 )\n",
        "\n",
        "print(\"Calculated class weights:\")\n",
        "print(f\"Class 0 (Non-fraud): {class_weights[0]}\")\n",
        "print(f\"Class 1 (Fraud): {class_weights[1]}\")\n",
        "\n",
        "# For BCEWithLogitsLoss, we usually use pos_weight to scale the positive class loss\n",
        "# pos_weight is the ratio of the number of negative samples to the number of positive samples\n",
        "# In balanced weights, the weight for class 1 is N_total / (2 * N_1)\n",
        "# N_total / N_1 = 2 * weight_class_1\n",
        "# So pos_weight = 2 * weight_class_1\n",
        "# A simpler way is to use the calculated weights: weight for class 1 / weight for class 0\n",
        "# However, a direct ratio of counts is more standard for pos_weight\n",
        "\n",
        "n_neg = np.sum(full_train_labels == 0)\n",
        "n_pos = np.sum(full_train_labels == 1)\n",
        "pos_weight = n_neg / n_pos\n",
        "\n",
        "print(f\"Calculated pos_weight for BCEWithLogitsLoss: {pos_weight}\")\n",
        "\n",
        "# Change the criterion to BCEWithLogitsLoss for binary classification\n",
        "# Pass pos_weight as a tensor\n",
        "criterion = nn.BCEWithLogitsLoss(pos_weight=torch.tensor(pos_weight, dtype=torch.float32))\n"
      ]
    },
    {
      "cell_type": "code",
      "execution_count": 55,
      "metadata": {
        "id": "meTZqDcRwfTU"
      },
      "outputs": [],
      "source": [
        "# Create the model and add the Adam optimizer\n",
        "\n",
        "input_size = len(feature_indexes)\n",
        "hidden_size = 64\n",
        "output_size = len(label_indexes)\n",
        "\n",
        "model = FeedForwardNet(\n",
        "    input_size=input_size,\n",
        "    hidden_size=hidden_size,\n",
        "    output_size=output_size\n",
        ")\n",
        "\n",
        "optimizer = optim.Adam(model.parameters(), lr=0.001)\n"
      ]
    },
    {
      "cell_type": "code",
      "execution_count": 56,
      "metadata": {
        "colab": {
          "base_uri": "https://localhost:8080/"
        },
        "id": "cVPDbolJyT-a",
        "outputId": "bc04a939-0528-456a-9bc2-62f82cc27f0d"
      },
      "outputs": [
        {
          "name": "stdout",
          "output_type": "stream",
          "text": [
            "Epoch 0, Loss: 0.3423579931259155\n",
            "Epoch 10, Loss: 0.16361859440803528\n",
            "Epoch 20, Loss: 0.5320737361907959\n",
            "Epoch 30, Loss: 0.5087335705757141\n",
            "Epoch 40, Loss: 0.8994959592819214\n",
            "Epoch 50, Loss: 0.6519072651863098\n",
            "Epoch 60, Loss: 0.7979134321212769\n",
            "Epoch 70, Loss: 0.24845170974731445\n",
            "Epoch 80, Loss: 0.5397199988365173\n",
            "Epoch 90, Loss: 0.5735878348350525\n",
            "Training complete!\n"
          ]
        }
      ],
      "source": [
        "# Train the model with dataloader using the train.csv\n",
        "\n",
        "for epoch in range(100):\n",
        "  for X_batch, y_batch in dataloader:\n",
        "    optimizer.zero_grad()\n",
        "    y_pred = model(X_batch)\n",
        "    loss = criterion(y_pred, y_batch)\n",
        "    loss.backward()\n",
        "    optimizer.step()\n",
        "\n",
        "  if epoch % 10 == 0:\n",
        "    print(f\"Epoch {epoch}, Loss: {loss.item()}\")\n",
        "\n",
        "print(\"Training complete!\")\n"
      ]
    },
    {
      "cell_type": "code",
      "execution_count": 57,
      "metadata": {
        "colab": {
          "base_uri": "https://localhost:8080/"
        },
        "id": "_Foomvi_ZM_y",
        "outputId": "08f829ef-4602-4596-a2ac-72545f803161"
      },
      "outputs": [
        {
          "name": "stdout",
          "output_type": "stream",
          "text": [
            "PyTorch Inference Output: [[-57.974545]]\n"
          ]
        }
      ],
      "source": [
        "# Once the training is complete, we need to save the TRAINED model in ONNX format for universal usability\n",
        "# Specify the path for the ONNX model file\n",
        "onnx_model_path = \"credit_fraud_model.onnx\"\n",
        "\n",
        "# Sample/example input for inference taken from the test.csv file. (Shape 1x5) since we're using 5 columns\n",
        "# This is only a sample which doesn't matter much but must be paased to the function call\n",
        "sample_input = torch.tensor([[2.009, 0.298, 1.0, 1.0, 0.0]])\n",
        "\n",
        "model.eval()\n",
        "\n",
        "# Perform inference to test with sample data\n",
        "test_output = model(sample_input)\n",
        "\n",
        "# Print the inference output\n",
        "print(\"PyTorch Inference Output:\", test_output.detach().numpy())\n"
      ]
    },
    {
      "cell_type": "code",
      "execution_count": 58,
      "metadata": {
        "colab": {
          "base_uri": "https://localhost:8080/"
        },
        "id": "6UzZa2ULZliX",
        "outputId": "25745892-a579-4a86-a564-94fb2c519ce4"
      },
      "outputs": [
        {
          "name": "stdout",
          "output_type": "stream",
          "text": [
            "Model successfully converted to ONNX: credit_fraud_model.onnx\n"
          ]
        }
      ],
      "source": [
        "# Convert the PyTorch model to universal ONNX format\n",
        "# Export the ONNX model with dynamic batch dimensions so it can handle inputs of varying batch sizes.\n",
        "# With this change, the ONNX model will now accept input tensors with\n",
        "# any batch size in the first dimension, including the (600000, 5) shape of X_test.\n",
        "# train.csv has 600000 rows and we took 5 columns for training hence, (600000, 5)\n",
        "\n",
        "torch.onnx.export(\n",
        "    model,                           # model being exported\n",
        "    sample_input,                    # model input (or a tuple for multiple inputs)\n",
        "    onnx_model_path,                 # where to save the model (can be a file or file-like object)\n",
        "    input_names=[\"input\"],           # the model's input names\n",
        "    output_names=[\"output\"],         # the model's output names\n",
        "    dynamic_axes={                   # specify dynamic axes\n",
        "        \"input\": {0: \"batch_size\"},  # the first dimension of the input is dynamic\n",
        "        \"output\": {0: \"batch_size\"}  # the first dimension of the output is dynamic\n",
        "    }\n",
        ")\n",
        "\n",
        "print(f\"Model successfully converted to ONNX: {onnx_model_path}\")"
      ]
    },
    {
      "cell_type": "code",
      "execution_count": 59,
      "metadata": {
        "colab": {
          "base_uri": "https://localhost:8080/"
        },
        "id": "4saNXVFvf4sd",
        "outputId": "26aee37c-58af-4e3c-8d4f-7afcf76090a7"
      },
      "outputs": [
        {
          "name": "stdout",
          "output_type": "stream",
          "text": [
            "artifact  credit_fraud_model.onnx  sample_data\n"
          ]
        }
      ],
      "source": [
        "!ls"
      ]
    },
    {
      "cell_type": "code",
      "execution_count": 60,
      "metadata": {
        "colab": {
          "base_uri": "https://localhost:8080/"
        },
        "id": "bsKKR_TxhCE6",
        "outputId": "5e6ace79-31bf-440e-f1b9-6358dd43a246"
      },
      "outputs": [
        {
          "data": {
            "text/plain": [
              "array([[-0.53370727, -0.26541838, -0.8819171 , -0.25819889,  0.67419986],\n",
              "       [-0.53402866, -0.56703928,  1.13389342, -0.25819889, -1.4832397 ],\n",
              "       [-0.5584407 , -0.48239793, -0.8819171 , -0.25819889,  0.67419986],\n",
              "       ...,\n",
              "       [-0.33454835,  0.3376825 , -0.8819171 , -0.25819889, -1.4832397 ],\n",
              "       [-0.52591585,  0.57308567, -0.8819171 , -0.25819889,  0.67419986],\n",
              "       [ 1.39788473,  0.15127799, -0.8819171 , -0.25819889, -1.4832397 ]])"
            ]
          },
          "execution_count": 60,
          "metadata": {},
          "output_type": "execute_result"
        }
      ],
      "source": [
        "# ONNX model is expecting an input with a batch size of 1 (shape (1, 5)),\n",
        "# but it is receiving the entire X_test dataset with a batch size of 600000 (shape (600000, 5))\n",
        "# That's why above while converting the model to ONNX, dynamic_axes is used.\n",
        "\n",
        "df = pd.read_csv('/root/.cache/kagglehub/datasets/shahtabkhandakar/credit-card-fraud-detection/versions/1/test.csv')\n",
        "X_test = df.iloc[:, feature_indexes].values\n",
        "y_test = df.iloc[:, label_indexes].values\n",
        "\n",
        "X_test = scaler.transform(X_test)\n",
        "\n",
        "X_test"
      ]
    },
    {
      "cell_type": "code",
      "execution_count": 61,
      "metadata": {
        "id": "BdKK_2TGj_Uf"
      },
      "outputs": [],
      "source": [
        "# Pickle the test data, first write the test data\n",
        "\n",
        "Path(\"artifact\").mkdir(parents=True, exist_ok=True)\n",
        "\n",
        "with open(\"artifact/test_data.pkl\", \"wb\") as handle:\n",
        "    pickle.dump((X_test, y_test), handle)\n",
        "\n",
        "with open(\"artifact/scaler.pkl\", \"wb\") as handle:\n",
        "    pickle.dump(scaler, handle)\n",
        "\n",
        "\n",
        "# Load the test data and scaler\n",
        "\n",
        "with open(\"artifact/test_data.pkl\", \"rb\") as handle:\n",
        "    X_test, y_test = pickle.load(handle)\n",
        "\n",
        "with open(\"artifact/scaler.pkl\", \"rb\") as handle:\n",
        "    scaler = pickle.load(handle)\n"
      ]
    },
    {
      "cell_type": "code",
      "execution_count": 62,
      "metadata": {
        "colab": {
          "base_uri": "https://localhost:8080/"
        },
        "id": "273IYhJwkL-M",
        "outputId": "9e7f9125-e779-4d8b-f40c-248bd871d148"
      },
      "outputs": [
        {
          "name": "stdout",
          "output_type": "stream",
          "text": [
            "scaler.pkl  test_data.pkl\n"
          ]
        }
      ],
      "source": [
        "!ls artifact"
      ]
    },
    {
      "cell_type": "code",
      "execution_count": 63,
      "metadata": {
        "colab": {
          "base_uri": "https://localhost:8080/"
        },
        "id": "-IeRtGAEkRql",
        "outputId": "642f4808-d108-4bc2-ac98-57c11bfca468"
      },
      "outputs": [
        {
          "name": "stdout",
          "output_type": "stream",
          "text": [
            "[0 0 0 ... 0 0 0]\n"
          ]
        }
      ],
      "source": [
        "# Create an ONNX inference runtime session and predict values for all test input data\n",
        "# Using the saved model (credit_fraud_model.onnx) earlier\n",
        "\n",
        "sess = ort.InferenceSession(\"credit_fraud_model.onnx\", providers=ort.get_available_providers())\n",
        "input_name = sess.get_inputs()[0].name\n",
        "output_name = sess.get_outputs()[0].name\n",
        "y_pred_temp = sess.run([output_name], {input_name: X_test.astype(np.float32)})\n",
        "y_pred_temp = np.asarray(np.squeeze(y_pred_temp[0]))\n",
        "threshold = 0.95\n",
        "y_pred = np.where(y_pred_temp > threshold, 1, 0)\n",
        "\n",
        "print(y_pred)"
      ]
    },
    {
      "cell_type": "code",
      "execution_count": 64,
      "metadata": {
        "colab": {
          "base_uri": "https://localhost:8080/",
          "height": 520
        },
        "id": "b5l3WwY1w0dq",
        "outputId": "b348c234-19cb-4f1a-e344-bb8154530611"
      },
      "outputs": [
        {
          "name": "stdout",
          "output_type": "stream",
          "text": [
            "Eval Metrics: \n",
            " Accuracy: 91.8%, Precision: 0.9647, Recall: 0.0597 \n",
            "\n"
          ]
        },
        {
          "data": {
            "text/plain": [
              "<sklearn.metrics._plot.confusion_matrix.ConfusionMatrixDisplay at 0x7a0d51c37690>"
            ]
          },
          "execution_count": 64,
          "metadata": {},
          "output_type": "execute_result"
        },
        {
          "data": {
            "image/png": "[encoded data removed]",
            "text/plain": [
              "<Figure size 640x480 with 2 Axes>"
            ]
          },
          "metadata": {},
          "output_type": "display_data"
        }
      ],
      "source": [
        "# Calculate some matrix and plot with confusion matrix for accuracy\n",
        "\n",
        "y_test_arr = y_test.squeeze()\n",
        "correct = np.equal(y_pred, y_test_arr).sum().item()\n",
        "acc = (correct / len(y_pred)) * 100\n",
        "precision = precision_score(y_test_arr, np.round(y_pred))\n",
        "recall = recall_score(y_test_arr, np.round(y_pred))\n",
        "\n",
        "print(f\"Eval Metrics: \\n Accuracy: {acc:>0.1f}%, \"\n",
        "      f\"Precision: {precision:.4f}, Recall: {recall:.4f} \\n\")\n",
        "\n",
        "c_matrix = confusion_matrix(y_test_arr, y_pred)\n",
        "ConfusionMatrixDisplay(c_matrix).plot()\n"
      ]
    },
    {
      "cell_type": "code",
      "execution_count": 65,
      "metadata": {
        "id": "cyysFkrUxCN_"
      },
      "outputs": [],
      "source": [
        "# Now let's pass a transaction to the model to see if this transaction is fraudulent or not\n",
        "\n",
        "#Here is the order of the fields from Shahtab's transaction details:\n",
        "#[distance_from_last_transaction,\n",
        "#  ratio_to_median_price,\n",
        "#. used_chip,\n",
        "#. used_pin_number,\n",
        "#. online_order]\n",
        "\n",
        "shahtab_creditcard_transaction = [\n",
        "    [0.3111400080477545,\n",
        "    1.9459399775518593,\n",
        "    1.0,\n",
        "    0.0,\n",
        "    0.0]\n",
        "    ]\n"
      ]
    },
    {
      "cell_type": "code",
      "execution_count": 66,
      "metadata": {
        "colab": {
          "base_uri": "https://localhost:8080/"
        },
        "id": "_3Jg-9AVx_KI",
        "outputId": "2206de71-2c18-4bdb-a349-3646d5e40da8"
      },
      "outputs": [
        {
          "name": "stdout",
          "output_type": "stream",
          "text": [
            "Is this transaction predicted to be fraudulent? (true = YES, false = NO) \n",
            "False\n",
            "How likely is the transaction to be fraudulent? \n",
            "-7196.70508%\n"
          ]
        }
      ],
      "source": [
        "# shahtab_creditcard_transaction has been defined above\n",
        "\n",
        "prediction = sess.run(\n",
        "                      [output_name],\n",
        "                      {input_name: scaler.transform(shahtab_creditcard_transaction).astype(np.float32)}\n",
        "                     )\n",
        "\n",
        "print(\"Is this transaction predicted to be fraudulent? (true = YES, false = NO) \")\n",
        "print(np.squeeze(prediction) > threshold)\n",
        "\n",
        "print(\"How likely is the transaction to be fraudulent? \")\n",
        "print(\"{:.5f}\".format(100 * np.squeeze(prediction)) + \"%\")\n"
      ]
    }
  ],
  "metadata": {
    "colab": {
      "provenance": []
    },
    "kernelspec": {
      "display_name": "Python 3",
      "name": "python3"
    },
    "language_info": {
      "name": "python"
    }
  },
  "nbformat": 4,
  "nbformat_minor": 0
}
